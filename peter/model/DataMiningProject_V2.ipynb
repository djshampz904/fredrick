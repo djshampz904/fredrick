{
 "cells": [
  {
   "cell_type": "markdown",
   "metadata": {
    "id": "6dHJ4eqVNfmZ"
   },
   "source": [
    "### Data Mining Project\n",
    "\n",
    "Diabetes, is a group of metabolic disorders in which there are high blood sugar levels over a prolonged period. Symptoms of high blood sugar include frequent urination, increased thirst, and increased hunger. If left untreated, diabetes can cause many complications. Acute complications can include diabetic ketoacidosis, hyperosmolar hyperglycemic state, or death. Serious long-term complications include cardiovascular disease, stroke, chronic kidney disease, foot ulcers, and damage to the eyes.\n",
    "\n",
    "This dataset has several medical predictor(Independent variables and dependent variables which is the target variables (diabetes)). The target variable Diabetes_binary has 2 classes. 0 is for no diabetes, and 1 is for prediabetes or diabetes.\n",
    "\n",
    "Building Prediction Models for Type 2 Diabetes Using Machine Learning Techniques and different models using the dataset below\n",
    "\n",
    "Details/Variables about the Dataset:\n",
    "\n",
    "  1. Diabetes_012\n",
    "\t2. HighBP\n",
    "\t3. HighChol\n",
    "\t4. CholCheck\n",
    "\t5. BMI\n",
    "\t6. Smoker\n",
    "\t7. Stroke\n",
    "\t8. HeartDiseaseorAttack\n",
    "\t9. PhysActivity\n",
    "\t10. Fruits\n",
    "\t11. Veggies\n",
    "\t12. HvyAlcoholConsump\n",
    "\t13. AnyHealthcare\n",
    "\t14. NoDocbcCost\n",
    "\t15. GenHlth\n",
    "\t16. MentHlth\n",
    "\t17. PhysHlth\n",
    "\t18. DiffWalk\n",
    "\t19. Sex\n",
    "\t20. Age\n",
    "\t21. Education\n",
    "\t22. Income\n"
   ]
  },
  {
   "cell_type": "markdown",
   "source": [
    "#### Loading and Importing Relevant Libraries"
   ],
   "metadata": {
    "id": "U6cR6JL8Fl6K"
   }
  },
  {
   "cell_type": "code",
   "metadata": {
    "id": "NqiznHPCgDdY",
    "ExecuteTime": {
     "end_time": "2024-04-10T14:00:11.496459Z",
     "start_time": "2024-04-10T14:00:11.490661Z"
    }
   },
   "source": [
    "# import Libraries\n",
    "import matplotlib.pyplot as plt\n",
    "import numpy as np\n",
    "import pandas as pd\n",
    "import seaborn as sns\n",
    "from IPython.display import display\n",
    "from matplotlib import pyplot\n",
    "from pandas.plotting import scatter_matrix\n",
    "from sklearn import linear_model, metrics, model_selection\n",
    "from sklearn.ensemble import RandomForestClassifier\n",
    "from sklearn.linear_model import LogisticRegression\n",
    "from sklearn.metrics import (\n",
    "    ConfusionMatrixDisplay,\n",
    "    accuracy_score,\n",
    "    classification_report,\n",
    "    confusion_matrix,\n",
    ")\n",
    "from sklearn.model_selection import KFold, cross_val_score, train_test_split\n",
    "from sklearn.preprocessing import MinMaxScaler"
   ],
   "outputs": [],
   "execution_count": 62
  },
  {
   "cell_type": "code",
   "metadata": {
    "id": "RdhVtkEOgG_Q",
    "ExecuteTime": {
     "end_time": "2024-04-10T14:00:11.881732Z",
     "start_time": "2024-04-10T14:00:11.877632Z"
    }
   },
   "source": [
    "# file names and urls\n",
    "# filepath_2015 = \"/kaggle/input/diabetes-health-indicators-dataset\\\n",
    "# /diabetes_binary_5050split_health_indicators_BRFSS2015.csv\"\n",
    "# filepath_2021 = \"/kaggle/input/d/julnazz/diabetes-health-indicators-dataset\\\n",
    "# /diabetes_binary_5050split_health_indicators_BRFSS2021.csv\"\n",
    "\n",
    "\n"
   ],
   "outputs": [],
   "execution_count": 63
  },
  {
   "cell_type": "code",
   "source": [
    "# diab1 = pd.read_csv('diabetes_012_health_indicators.csv')\n",
    "diab2 = pd.read_csv('diabetes_binaryhealth.csv')"
   ],
   "metadata": {
    "id": "a5izh644THbc",
    "ExecuteTime": {
     "end_time": "2024-04-10T14:00:12.401117Z",
     "start_time": "2024-04-10T14:00:11.919803Z"
    }
   },
   "outputs": [],
   "execution_count": 64
  },
  {
   "cell_type": "code",
   "source": [
    "diab2.Diabetes_binary.unique()"
   ],
   "metadata": {
    "colab": {
     "base_uri": "https://localhost:8080/"
    },
    "id": "c9pnETEiZo74",
    "outputId": "e4ec402a-d891-4169-9aa9-611fba9389b3",
    "ExecuteTime": {
     "end_time": "2024-04-10T14:00:12.413452Z",
     "start_time": "2024-04-10T14:00:12.404125Z"
    }
   },
   "outputs": [
    {
     "data": {
      "text/plain": [
       "array([0., 1.])"
      ]
     },
     "execution_count": 65,
     "metadata": {},
     "output_type": "execute_result"
    }
   ],
   "execution_count": 65
  },
  {
   "cell_type": "code",
   "source": [
    "# Combine the two DataFrames\n",
    "# diabetes = pd.concat([diab1, diab2], axis=0).reset_index(drop=True)\n",
    "\n",
    "# Rename the 'Diabetes_binary' column to 'Diabetes'\n",
    "diab2.rename(columns={\"Diabetes_binary\": \"Diabetes\"}, inplace=True)\n",
    "\n",
    "# Display the first few rows of the combined dataframe\n",
    "# and its shape to verify the combination\n",
    "combined_df_info = diab2.head(), diab2.shape\n",
    "\n",
    "combined_df_info"
   ],
   "metadata": {
    "colab": {
     "base_uri": "https://localhost:8080/"
    },
    "id": "jeb5DumUMLM6",
    "outputId": "9796e215-8cfd-4f5a-ee45-2b903b020711",
    "ExecuteTime": {
     "end_time": "2024-04-10T14:00:12.430215Z",
     "start_time": "2024-04-10T14:00:12.415841Z"
    }
   },
   "outputs": [
    {
     "data": {
      "text/plain": [
       "(   Diabetes  HighBP  HighChol  CholCheck   BMI  Smoker  Stroke  \\\n",
       " 0       0.0     1.0       1.0        1.0  40.0     1.0     0.0   \n",
       " 1       0.0     0.0       0.0        0.0  25.0     1.0     0.0   \n",
       " 2       0.0     1.0       1.0        1.0  28.0     0.0     0.0   \n",
       " 3       0.0     1.0       0.0        1.0  27.0     0.0     0.0   \n",
       " 4       0.0     1.0       1.0        1.0  24.0     0.0     0.0   \n",
       " \n",
       "    HeartDiseaseorAttack  PhysActivity  Fruits  ...  AnyHealthcare  \\\n",
       " 0                   0.0           0.0     0.0  ...            1.0   \n",
       " 1                   0.0           1.0     0.0  ...            0.0   \n",
       " 2                   0.0           0.0     1.0  ...            1.0   \n",
       " 3                   0.0           1.0     1.0  ...            1.0   \n",
       " 4                   0.0           1.0     1.0  ...            1.0   \n",
       " \n",
       "    NoDocbcCost  GenHlth  MentHlth  PhysHlth  DiffWalk  Sex   Age  Education  \\\n",
       " 0          0.0      5.0      18.0      15.0       1.0  0.0   9.0        4.0   \n",
       " 1          1.0      3.0       0.0       0.0       0.0  0.0   7.0        6.0   \n",
       " 2          1.0      5.0      30.0      30.0       1.0  0.0   9.0        4.0   \n",
       " 3          0.0      2.0       0.0       0.0       0.0  0.0  11.0        3.0   \n",
       " 4          0.0      2.0       3.0       0.0       0.0  0.0  11.0        5.0   \n",
       " \n",
       "    Income  \n",
       " 0     3.0  \n",
       " 1     1.0  \n",
       " 2     8.0  \n",
       " 3     6.0  \n",
       " 4     4.0  \n",
       " \n",
       " [5 rows x 22 columns],\n",
       " (253680, 22))"
      ]
     },
     "execution_count": 66,
     "metadata": {},
     "output_type": "execute_result"
    }
   ],
   "execution_count": 66
  },
  {
   "cell_type": "code",
   "source": [
    "  diab2.Diabetes.isnull().sum()"
   ],
   "metadata": {
    "colab": {
     "base_uri": "https://localhost:8080/"
    },
    "id": "gKDBzqBNUuCQ",
    "outputId": "102af3d3-a360-4ef4-8203-ab13cb342ca5",
    "ExecuteTime": {
     "end_time": "2024-04-10T14:00:12.439664Z",
     "start_time": "2024-04-10T14:00:12.432954Z"
    }
   },
   "outputs": [
    {
     "data": {
      "text/plain": [
       "0"
      ]
     },
     "execution_count": 67,
     "metadata": {},
     "output_type": "execute_result"
    }
   ],
   "execution_count": 67
  },
  {
   "cell_type": "code",
   "metadata": {
    "id": "tW9vUEImhAVz",
    "colab": {
     "base_uri": "https://localhost:8080/"
    },
    "outputId": "c1a0bdd3-5f08-424a-914c-38abf0e324b1",
    "ExecuteTime": {
     "end_time": "2024-04-10T14:00:12.474692Z",
     "start_time": "2024-04-10T14:00:12.441390Z"
    }
   },
   "source": [
    "# Print the total number of missing values\n",
    "print(\"There are {} missing values in this dataset\".format(diab2.isnull().sum().sum()))\n",
    "\n",
    "print('Number of rows = %d' % (diab2.shape[0]))\n",
    "print('Number of columns = %d' % (diab2.shape[1]))\n",
    "\n",
    "print('Number of missing values:')\n",
    "for col in diab2.columns:\n",
    "    print('\\t%s: %d' % (col,diab2[col].isna().sum()))"
   ],
   "outputs": [
    {
     "name": "stdout",
     "output_type": "stream",
     "text": [
      "There are 0 missing values in this dataset\n",
      "Number of rows = 253680\n",
      "Number of columns = 22\n",
      "Number of missing values:\n",
      "\tDiabetes: 0\n",
      "\tHighBP: 0\n",
      "\tHighChol: 0\n",
      "\tCholCheck: 0\n",
      "\tBMI: 0\n",
      "\tSmoker: 0\n",
      "\tStroke: 0\n",
      "\tHeartDiseaseorAttack: 0\n",
      "\tPhysActivity: 0\n",
      "\tFruits: 0\n",
      "\tVeggies: 0\n",
      "\tHvyAlcoholConsump: 0\n",
      "\tAnyHealthcare: 0\n",
      "\tNoDocbcCost: 0\n",
      "\tGenHlth: 0\n",
      "\tMentHlth: 0\n",
      "\tPhysHlth: 0\n",
      "\tDiffWalk: 0\n",
      "\tSex: 0\n",
      "\tAge: 0\n",
      "\tEducation: 0\n",
      "\tIncome: 0\n"
     ]
    }
   ],
   "execution_count": 68
  },
  {
   "cell_type": "code",
   "metadata": {
    "id": "W4xlQATmNKQb",
    "colab": {
     "base_uri": "https://localhost:8080/",
     "height": 349
    },
    "outputId": "68e4e6ea-dee3-4bf2-faac-462eaaba0b85",
    "ExecuteTime": {
     "end_time": "2024-04-10T14:00:12.804781Z",
     "start_time": "2024-04-10T14:00:12.476711Z"
    }
   },
   "source": [
    "# Describe the Dataset\n",
    "diab2.describe()"
   ],
   "outputs": [
    {
     "data": {
      "text/plain": [
       "            Diabetes         HighBP       HighChol      CholCheck  \\\n",
       "count  253680.000000  253680.000000  253680.000000  253680.000000   \n",
       "mean        0.139333       0.429001       0.424121       0.962670   \n",
       "std         0.346294       0.494934       0.494210       0.189571   \n",
       "min         0.000000       0.000000       0.000000       0.000000   \n",
       "25%         0.000000       0.000000       0.000000       1.000000   \n",
       "50%         0.000000       0.000000       0.000000       1.000000   \n",
       "75%         0.000000       1.000000       1.000000       1.000000   \n",
       "max         1.000000       1.000000       1.000000       1.000000   \n",
       "\n",
       "                 BMI         Smoker         Stroke  HeartDiseaseorAttack  \\\n",
       "count  253680.000000  253680.000000  253680.000000         253680.000000   \n",
       "mean       28.382364       0.443169       0.040571              0.094186   \n",
       "std         6.608694       0.496761       0.197294              0.292087   \n",
       "min        12.000000       0.000000       0.000000              0.000000   \n",
       "25%        24.000000       0.000000       0.000000              0.000000   \n",
       "50%        27.000000       0.000000       0.000000              0.000000   \n",
       "75%        31.000000       1.000000       0.000000              0.000000   \n",
       "max        98.000000       1.000000       1.000000              1.000000   \n",
       "\n",
       "        PhysActivity         Fruits  ...  AnyHealthcare    NoDocbcCost  \\\n",
       "count  253680.000000  253680.000000  ...  253680.000000  253680.000000   \n",
       "mean        0.756544       0.634256  ...       0.951053       0.084177   \n",
       "std         0.429169       0.481639  ...       0.215759       0.277654   \n",
       "min         0.000000       0.000000  ...       0.000000       0.000000   \n",
       "25%         1.000000       0.000000  ...       1.000000       0.000000   \n",
       "50%         1.000000       1.000000  ...       1.000000       0.000000   \n",
       "75%         1.000000       1.000000  ...       1.000000       0.000000   \n",
       "max         1.000000       1.000000  ...       1.000000       1.000000   \n",
       "\n",
       "             GenHlth       MentHlth       PhysHlth       DiffWalk  \\\n",
       "count  253680.000000  253680.000000  253680.000000  253680.000000   \n",
       "mean        2.511392       3.184772       4.242081       0.168224   \n",
       "std         1.068477       7.412847       8.717951       0.374066   \n",
       "min         1.000000       0.000000       0.000000       0.000000   \n",
       "25%         2.000000       0.000000       0.000000       0.000000   \n",
       "50%         2.000000       0.000000       0.000000       0.000000   \n",
       "75%         3.000000       2.000000       3.000000       0.000000   \n",
       "max         5.000000      30.000000      30.000000       1.000000   \n",
       "\n",
       "                 Sex            Age      Education         Income  \n",
       "count  253680.000000  253680.000000  253680.000000  253680.000000  \n",
       "mean        0.440342       8.032119       5.050434       6.053875  \n",
       "std         0.496429       3.054220       0.985774       2.071148  \n",
       "min         0.000000       1.000000       1.000000       1.000000  \n",
       "25%         0.000000       6.000000       4.000000       5.000000  \n",
       "50%         0.000000       8.000000       5.000000       7.000000  \n",
       "75%         1.000000      10.000000       6.000000       8.000000  \n",
       "max         1.000000      13.000000       6.000000       8.000000  \n",
       "\n",
       "[8 rows x 22 columns]"
      ],
      "text/html": [
       "<div>\n",
       "<style scoped>\n",
       "    .dataframe tbody tr th:only-of-type {\n",
       "        vertical-align: middle;\n",
       "    }\n",
       "\n",
       "    .dataframe tbody tr th {\n",
       "        vertical-align: top;\n",
       "    }\n",
       "\n",
       "    .dataframe thead th {\n",
       "        text-align: right;\n",
       "    }\n",
       "</style>\n",
       "<table border=\"1\" class=\"dataframe\">\n",
       "  <thead>\n",
       "    <tr style=\"text-align: right;\">\n",
       "      <th></th>\n",
       "      <th>Diabetes</th>\n",
       "      <th>HighBP</th>\n",
       "      <th>HighChol</th>\n",
       "      <th>CholCheck</th>\n",
       "      <th>BMI</th>\n",
       "      <th>Smoker</th>\n",
       "      <th>Stroke</th>\n",
       "      <th>HeartDiseaseorAttack</th>\n",
       "      <th>PhysActivity</th>\n",
       "      <th>Fruits</th>\n",
       "      <th>...</th>\n",
       "      <th>AnyHealthcare</th>\n",
       "      <th>NoDocbcCost</th>\n",
       "      <th>GenHlth</th>\n",
       "      <th>MentHlth</th>\n",
       "      <th>PhysHlth</th>\n",
       "      <th>DiffWalk</th>\n",
       "      <th>Sex</th>\n",
       "      <th>Age</th>\n",
       "      <th>Education</th>\n",
       "      <th>Income</th>\n",
       "    </tr>\n",
       "  </thead>\n",
       "  <tbody>\n",
       "    <tr>\n",
       "      <th>count</th>\n",
       "      <td>253680.000000</td>\n",
       "      <td>253680.000000</td>\n",
       "      <td>253680.000000</td>\n",
       "      <td>253680.000000</td>\n",
       "      <td>253680.000000</td>\n",
       "      <td>253680.000000</td>\n",
       "      <td>253680.000000</td>\n",
       "      <td>253680.000000</td>\n",
       "      <td>253680.000000</td>\n",
       "      <td>253680.000000</td>\n",
       "      <td>...</td>\n",
       "      <td>253680.000000</td>\n",
       "      <td>253680.000000</td>\n",
       "      <td>253680.000000</td>\n",
       "      <td>253680.000000</td>\n",
       "      <td>253680.000000</td>\n",
       "      <td>253680.000000</td>\n",
       "      <td>253680.000000</td>\n",
       "      <td>253680.000000</td>\n",
       "      <td>253680.000000</td>\n",
       "      <td>253680.000000</td>\n",
       "    </tr>\n",
       "    <tr>\n",
       "      <th>mean</th>\n",
       "      <td>0.139333</td>\n",
       "      <td>0.429001</td>\n",
       "      <td>0.424121</td>\n",
       "      <td>0.962670</td>\n",
       "      <td>28.382364</td>\n",
       "      <td>0.443169</td>\n",
       "      <td>0.040571</td>\n",
       "      <td>0.094186</td>\n",
       "      <td>0.756544</td>\n",
       "      <td>0.634256</td>\n",
       "      <td>...</td>\n",
       "      <td>0.951053</td>\n",
       "      <td>0.084177</td>\n",
       "      <td>2.511392</td>\n",
       "      <td>3.184772</td>\n",
       "      <td>4.242081</td>\n",
       "      <td>0.168224</td>\n",
       "      <td>0.440342</td>\n",
       "      <td>8.032119</td>\n",
       "      <td>5.050434</td>\n",
       "      <td>6.053875</td>\n",
       "    </tr>\n",
       "    <tr>\n",
       "      <th>std</th>\n",
       "      <td>0.346294</td>\n",
       "      <td>0.494934</td>\n",
       "      <td>0.494210</td>\n",
       "      <td>0.189571</td>\n",
       "      <td>6.608694</td>\n",
       "      <td>0.496761</td>\n",
       "      <td>0.197294</td>\n",
       "      <td>0.292087</td>\n",
       "      <td>0.429169</td>\n",
       "      <td>0.481639</td>\n",
       "      <td>...</td>\n",
       "      <td>0.215759</td>\n",
       "      <td>0.277654</td>\n",
       "      <td>1.068477</td>\n",
       "      <td>7.412847</td>\n",
       "      <td>8.717951</td>\n",
       "      <td>0.374066</td>\n",
       "      <td>0.496429</td>\n",
       "      <td>3.054220</td>\n",
       "      <td>0.985774</td>\n",
       "      <td>2.071148</td>\n",
       "    </tr>\n",
       "    <tr>\n",
       "      <th>min</th>\n",
       "      <td>0.000000</td>\n",
       "      <td>0.000000</td>\n",
       "      <td>0.000000</td>\n",
       "      <td>0.000000</td>\n",
       "      <td>12.000000</td>\n",
       "      <td>0.000000</td>\n",
       "      <td>0.000000</td>\n",
       "      <td>0.000000</td>\n",
       "      <td>0.000000</td>\n",
       "      <td>0.000000</td>\n",
       "      <td>...</td>\n",
       "      <td>0.000000</td>\n",
       "      <td>0.000000</td>\n",
       "      <td>1.000000</td>\n",
       "      <td>0.000000</td>\n",
       "      <td>0.000000</td>\n",
       "      <td>0.000000</td>\n",
       "      <td>0.000000</td>\n",
       "      <td>1.000000</td>\n",
       "      <td>1.000000</td>\n",
       "      <td>1.000000</td>\n",
       "    </tr>\n",
       "    <tr>\n",
       "      <th>25%</th>\n",
       "      <td>0.000000</td>\n",
       "      <td>0.000000</td>\n",
       "      <td>0.000000</td>\n",
       "      <td>1.000000</td>\n",
       "      <td>24.000000</td>\n",
       "      <td>0.000000</td>\n",
       "      <td>0.000000</td>\n",
       "      <td>0.000000</td>\n",
       "      <td>1.000000</td>\n",
       "      <td>0.000000</td>\n",
       "      <td>...</td>\n",
       "      <td>1.000000</td>\n",
       "      <td>0.000000</td>\n",
       "      <td>2.000000</td>\n",
       "      <td>0.000000</td>\n",
       "      <td>0.000000</td>\n",
       "      <td>0.000000</td>\n",
       "      <td>0.000000</td>\n",
       "      <td>6.000000</td>\n",
       "      <td>4.000000</td>\n",
       "      <td>5.000000</td>\n",
       "    </tr>\n",
       "    <tr>\n",
       "      <th>50%</th>\n",
       "      <td>0.000000</td>\n",
       "      <td>0.000000</td>\n",
       "      <td>0.000000</td>\n",
       "      <td>1.000000</td>\n",
       "      <td>27.000000</td>\n",
       "      <td>0.000000</td>\n",
       "      <td>0.000000</td>\n",
       "      <td>0.000000</td>\n",
       "      <td>1.000000</td>\n",
       "      <td>1.000000</td>\n",
       "      <td>...</td>\n",
       "      <td>1.000000</td>\n",
       "      <td>0.000000</td>\n",
       "      <td>2.000000</td>\n",
       "      <td>0.000000</td>\n",
       "      <td>0.000000</td>\n",
       "      <td>0.000000</td>\n",
       "      <td>0.000000</td>\n",
       "      <td>8.000000</td>\n",
       "      <td>5.000000</td>\n",
       "      <td>7.000000</td>\n",
       "    </tr>\n",
       "    <tr>\n",
       "      <th>75%</th>\n",
       "      <td>0.000000</td>\n",
       "      <td>1.000000</td>\n",
       "      <td>1.000000</td>\n",
       "      <td>1.000000</td>\n",
       "      <td>31.000000</td>\n",
       "      <td>1.000000</td>\n",
       "      <td>0.000000</td>\n",
       "      <td>0.000000</td>\n",
       "      <td>1.000000</td>\n",
       "      <td>1.000000</td>\n",
       "      <td>...</td>\n",
       "      <td>1.000000</td>\n",
       "      <td>0.000000</td>\n",
       "      <td>3.000000</td>\n",
       "      <td>2.000000</td>\n",
       "      <td>3.000000</td>\n",
       "      <td>0.000000</td>\n",
       "      <td>1.000000</td>\n",
       "      <td>10.000000</td>\n",
       "      <td>6.000000</td>\n",
       "      <td>8.000000</td>\n",
       "    </tr>\n",
       "    <tr>\n",
       "      <th>max</th>\n",
       "      <td>1.000000</td>\n",
       "      <td>1.000000</td>\n",
       "      <td>1.000000</td>\n",
       "      <td>1.000000</td>\n",
       "      <td>98.000000</td>\n",
       "      <td>1.000000</td>\n",
       "      <td>1.000000</td>\n",
       "      <td>1.000000</td>\n",
       "      <td>1.000000</td>\n",
       "      <td>1.000000</td>\n",
       "      <td>...</td>\n",
       "      <td>1.000000</td>\n",
       "      <td>1.000000</td>\n",
       "      <td>5.000000</td>\n",
       "      <td>30.000000</td>\n",
       "      <td>30.000000</td>\n",
       "      <td>1.000000</td>\n",
       "      <td>1.000000</td>\n",
       "      <td>13.000000</td>\n",
       "      <td>6.000000</td>\n",
       "      <td>8.000000</td>\n",
       "    </tr>\n",
       "  </tbody>\n",
       "</table>\n",
       "<p>8 rows × 22 columns</p>\n",
       "</div>"
      ]
     },
     "execution_count": 69,
     "metadata": {},
     "output_type": "execute_result"
    }
   ],
   "execution_count": 69
  },
  {
   "cell_type": "code",
   "metadata": {
    "id": "PuYzbGAIT74T",
    "colab": {
     "base_uri": "https://localhost:8080/"
    },
    "outputId": "eabd5200-413c-4f0f-806f-e1890f646604",
    "ExecuteTime": {
     "end_time": "2024-04-10T14:00:12.814952Z",
     "start_time": "2024-04-10T14:00:12.807757Z"
    }
   },
   "source": [
    "# Checking Datatypes of the Dataset\n",
    "diab2.dtypes"
   ],
   "outputs": [
    {
     "data": {
      "text/plain": [
       "Diabetes                float64\n",
       "HighBP                  float64\n",
       "HighChol                float64\n",
       "CholCheck               float64\n",
       "BMI                     float64\n",
       "Smoker                  float64\n",
       "Stroke                  float64\n",
       "HeartDiseaseorAttack    float64\n",
       "PhysActivity            float64\n",
       "Fruits                  float64\n",
       "Veggies                 float64\n",
       "HvyAlcoholConsump       float64\n",
       "AnyHealthcare           float64\n",
       "NoDocbcCost             float64\n",
       "GenHlth                 float64\n",
       "MentHlth                float64\n",
       "PhysHlth                float64\n",
       "DiffWalk                float64\n",
       "Sex                     float64\n",
       "Age                     float64\n",
       "Education               float64\n",
       "Income                  float64\n",
       "dtype: object"
      ]
     },
     "execution_count": 70,
     "metadata": {},
     "output_type": "execute_result"
    }
   ],
   "execution_count": 70
  },
  {
   "cell_type": "markdown",
   "metadata": {
    "id": "1BHT1C9SUUlw"
   },
   "source": [
    "All our variables have the data type float"
   ]
  },
  {
   "cell_type": "code",
   "metadata": {
    "id": "gF8rx0FXrlw7",
    "colab": {
     "base_uri": "https://localhost:8080/"
    },
    "outputId": "b4d40611-f816-4a07-cbc0-b1b2a2c37412",
    "ExecuteTime": {
     "end_time": "2024-04-10T14:00:12.821796Z",
     "start_time": "2024-04-10T14:00:12.816041Z"
    }
   },
   "source": [
    "diab2.columns\n"
   ],
   "outputs": [
    {
     "data": {
      "text/plain": [
       "Index(['Diabetes', 'HighBP', 'HighChol', 'CholCheck', 'BMI', 'Smoker',\n",
       "       'Stroke', 'HeartDiseaseorAttack', 'PhysActivity', 'Fruits', 'Veggies',\n",
       "       'HvyAlcoholConsump', 'AnyHealthcare', 'NoDocbcCost', 'GenHlth',\n",
       "       'MentHlth', 'PhysHlth', 'DiffWalk', 'Sex', 'Age', 'Education',\n",
       "       'Income'],\n",
       "      dtype='object')"
      ]
     },
     "execution_count": 71,
     "metadata": {},
     "output_type": "execute_result"
    }
   ],
   "execution_count": 71
  },
  {
   "cell_type": "markdown",
   "source": [
    "#### Removing the less Relevance Feauture"
   ],
   "metadata": {
    "id": "YVvaZ6FtaV-y"
   }
  },
  {
   "cell_type": "code",
   "source": [
    "# Remove irrelevant features from the combined dataset\n",
    "columns_to_remove = [\"CholCheck\", \"AnyHealthcare\", \"NoDocbcCost\", \"Education\", \"Income\"]\n",
    "diab = diab2.drop(columns=columns_to_remove)\n",
    "\n",
    "# Reverse the values of 'GenHlth'\n",
    "diab[\"GenHlth\"] = 6 - diab[\"GenHlth\"]\n",
    "\n",
    "# Display the first few rows of the reduced dataframe to verify the removal\n",
    "diab.head()"
   ],
   "metadata": {
    "colab": {
     "base_uri": "https://localhost:8080/",
     "height": 226
    },
    "id": "top9bYwAab0y",
    "outputId": "4221431b-f700-44f4-acdb-7b3e3643e451",
    "ExecuteTime": {
     "end_time": "2024-04-10T14:00:12.861926Z",
     "start_time": "2024-04-10T14:00:12.823485Z"
    }
   },
   "outputs": [
    {
     "data": {
      "text/plain": [
       "   Diabetes  HighBP  HighChol   BMI  Smoker  Stroke  HeartDiseaseorAttack  \\\n",
       "0       0.0     1.0       1.0  40.0     1.0     0.0                   0.0   \n",
       "1       0.0     0.0       0.0  25.0     1.0     0.0                   0.0   \n",
       "2       0.0     1.0       1.0  28.0     0.0     0.0                   0.0   \n",
       "3       0.0     1.0       0.0  27.0     0.0     0.0                   0.0   \n",
       "4       0.0     1.0       1.0  24.0     0.0     0.0                   0.0   \n",
       "\n",
       "   PhysActivity  Fruits  Veggies  HvyAlcoholConsump  GenHlth  MentHlth  \\\n",
       "0           0.0     0.0      1.0                0.0      1.0      18.0   \n",
       "1           1.0     0.0      0.0                0.0      3.0       0.0   \n",
       "2           0.0     1.0      0.0                0.0      1.0      30.0   \n",
       "3           1.0     1.0      1.0                0.0      4.0       0.0   \n",
       "4           1.0     1.0      1.0                0.0      4.0       3.0   \n",
       "\n",
       "   PhysHlth  DiffWalk  Sex   Age  \n",
       "0      15.0       1.0  0.0   9.0  \n",
       "1       0.0       0.0  0.0   7.0  \n",
       "2      30.0       1.0  0.0   9.0  \n",
       "3       0.0       0.0  0.0  11.0  \n",
       "4       0.0       0.0  0.0  11.0  "
      ],
      "text/html": [
       "<div>\n",
       "<style scoped>\n",
       "    .dataframe tbody tr th:only-of-type {\n",
       "        vertical-align: middle;\n",
       "    }\n",
       "\n",
       "    .dataframe tbody tr th {\n",
       "        vertical-align: top;\n",
       "    }\n",
       "\n",
       "    .dataframe thead th {\n",
       "        text-align: right;\n",
       "    }\n",
       "</style>\n",
       "<table border=\"1\" class=\"dataframe\">\n",
       "  <thead>\n",
       "    <tr style=\"text-align: right;\">\n",
       "      <th></th>\n",
       "      <th>Diabetes</th>\n",
       "      <th>HighBP</th>\n",
       "      <th>HighChol</th>\n",
       "      <th>BMI</th>\n",
       "      <th>Smoker</th>\n",
       "      <th>Stroke</th>\n",
       "      <th>HeartDiseaseorAttack</th>\n",
       "      <th>PhysActivity</th>\n",
       "      <th>Fruits</th>\n",
       "      <th>Veggies</th>\n",
       "      <th>HvyAlcoholConsump</th>\n",
       "      <th>GenHlth</th>\n",
       "      <th>MentHlth</th>\n",
       "      <th>PhysHlth</th>\n",
       "      <th>DiffWalk</th>\n",
       "      <th>Sex</th>\n",
       "      <th>Age</th>\n",
       "    </tr>\n",
       "  </thead>\n",
       "  <tbody>\n",
       "    <tr>\n",
       "      <th>0</th>\n",
       "      <td>0.0</td>\n",
       "      <td>1.0</td>\n",
       "      <td>1.0</td>\n",
       "      <td>40.0</td>\n",
       "      <td>1.0</td>\n",
       "      <td>0.0</td>\n",
       "      <td>0.0</td>\n",
       "      <td>0.0</td>\n",
       "      <td>0.0</td>\n",
       "      <td>1.0</td>\n",
       "      <td>0.0</td>\n",
       "      <td>1.0</td>\n",
       "      <td>18.0</td>\n",
       "      <td>15.0</td>\n",
       "      <td>1.0</td>\n",
       "      <td>0.0</td>\n",
       "      <td>9.0</td>\n",
       "    </tr>\n",
       "    <tr>\n",
       "      <th>1</th>\n",
       "      <td>0.0</td>\n",
       "      <td>0.0</td>\n",
       "      <td>0.0</td>\n",
       "      <td>25.0</td>\n",
       "      <td>1.0</td>\n",
       "      <td>0.0</td>\n",
       "      <td>0.0</td>\n",
       "      <td>1.0</td>\n",
       "      <td>0.0</td>\n",
       "      <td>0.0</td>\n",
       "      <td>0.0</td>\n",
       "      <td>3.0</td>\n",
       "      <td>0.0</td>\n",
       "      <td>0.0</td>\n",
       "      <td>0.0</td>\n",
       "      <td>0.0</td>\n",
       "      <td>7.0</td>\n",
       "    </tr>\n",
       "    <tr>\n",
       "      <th>2</th>\n",
       "      <td>0.0</td>\n",
       "      <td>1.0</td>\n",
       "      <td>1.0</td>\n",
       "      <td>28.0</td>\n",
       "      <td>0.0</td>\n",
       "      <td>0.0</td>\n",
       "      <td>0.0</td>\n",
       "      <td>0.0</td>\n",
       "      <td>1.0</td>\n",
       "      <td>0.0</td>\n",
       "      <td>0.0</td>\n",
       "      <td>1.0</td>\n",
       "      <td>30.0</td>\n",
       "      <td>30.0</td>\n",
       "      <td>1.0</td>\n",
       "      <td>0.0</td>\n",
       "      <td>9.0</td>\n",
       "    </tr>\n",
       "    <tr>\n",
       "      <th>3</th>\n",
       "      <td>0.0</td>\n",
       "      <td>1.0</td>\n",
       "      <td>0.0</td>\n",
       "      <td>27.0</td>\n",
       "      <td>0.0</td>\n",
       "      <td>0.0</td>\n",
       "      <td>0.0</td>\n",
       "      <td>1.0</td>\n",
       "      <td>1.0</td>\n",
       "      <td>1.0</td>\n",
       "      <td>0.0</td>\n",
       "      <td>4.0</td>\n",
       "      <td>0.0</td>\n",
       "      <td>0.0</td>\n",
       "      <td>0.0</td>\n",
       "      <td>0.0</td>\n",
       "      <td>11.0</td>\n",
       "    </tr>\n",
       "    <tr>\n",
       "      <th>4</th>\n",
       "      <td>0.0</td>\n",
       "      <td>1.0</td>\n",
       "      <td>1.0</td>\n",
       "      <td>24.0</td>\n",
       "      <td>0.0</td>\n",
       "      <td>0.0</td>\n",
       "      <td>0.0</td>\n",
       "      <td>1.0</td>\n",
       "      <td>1.0</td>\n",
       "      <td>1.0</td>\n",
       "      <td>0.0</td>\n",
       "      <td>4.0</td>\n",
       "      <td>3.0</td>\n",
       "      <td>0.0</td>\n",
       "      <td>0.0</td>\n",
       "      <td>0.0</td>\n",
       "      <td>11.0</td>\n",
       "    </tr>\n",
       "  </tbody>\n",
       "</table>\n",
       "</div>"
      ]
     },
     "execution_count": 72,
     "metadata": {},
     "output_type": "execute_result"
    }
   ],
   "execution_count": 72
  },
  {
   "cell_type": "markdown",
   "source": [
    "#### Exploratory Data Analysis"
   ],
   "metadata": {
    "id": "W-8LURzTGd9B"
   }
  },
  {
   "cell_type": "code",
   "metadata": {
    "id": "Co96nev8USj2",
    "colab": {
     "base_uri": "https://localhost:8080/",
     "height": 1000
    },
    "outputId": "68ec12c3-d6ce-4db6-e772-7619897747fe",
    "ExecuteTime": {
     "end_time": "2024-04-10T14:00:21.105599Z",
     "start_time": "2024-04-10T14:00:12.866911Z"
    }
   },
   "source": [
    "# Checking for Outliers\n",
    "\n",
    "\n",
    "fig, axes = plt.subplots(nrows = 4, ncols = 3, figsize = (20,20))\n",
    "\n",
    "fig.suptitle('Dataset columns Boxplots ', y = 1.02, color = 'darkcyan', fontsize = 20)\n",
    "\n",
    "for ax, data, name in zip(axes.flatten(), diab, diab.columns):\n",
    "  sns.boxplot(diab[name], ax = ax, color = 'Red')\n",
    "  ax.set_title('Boxplots ' + name)\n",
    "#   ax.set_facecolor(blue)\n",
    "plt.tight_layout()"
   ],
   "outputs": [
    {
     "data": {
      "text/plain": [
       "<Figure size 2000x2000 with 12 Axes>"
      ],
      "image/png": "[encoded data removed]"
     },
     "metadata": {},
     "output_type": "display_data"
    }
   ],
   "execution_count": 73
  },
  {
   "cell_type": "markdown",
   "metadata": {
    "id": "lWmnT7_p_EQl"
   },
   "source": [
    "Upon checkin on the graphs generated above there are some variables with outliers"
   ]
  },
  {
   "cell_type": "code",
   "metadata": {
    "id": "9uCiZRwkUwbB",
    "colab": {
     "base_uri": "https://localhost:8080/"
    },
    "outputId": "5b08b428-373f-4ca9-c9a5-964434bc0b8e",
    "ExecuteTime": {
     "end_time": "2024-04-10T14:00:21.268581Z",
     "start_time": "2024-04-10T14:00:21.107839Z"
    }
   },
   "source": [
    "# Checking for Anomalies\n",
    "#\n",
    "Q1 = diab.quantile(0.25)\n",
    "Q3 = diab.quantile(0.75)\n",
    "\n",
    "IQR = Q3 - Q1\n",
    "\n",
    "diabetes = diab[~((diab < (Q1 - 1.5 * IQR)) | (diab > (Q3 + 1.5 * IQR))).any(axis = 1)]\n",
    "diabetes.shape\n",
    "\n",
    "## Removing the outliers using the IQR where you subtract Q3 - Q1"
   ],
   "outputs": [
    {
     "data": {
      "text/plain": [
       "(97727, 17)"
      ]
     },
     "execution_count": 74,
     "metadata": {},
     "output_type": "execute_result"
    }
   ],
   "execution_count": 74
  },
  {
   "cell_type": "markdown",
   "metadata": {
    "id": "pr7yOhnkZK44"
   },
   "source": [
    "The IQR reduced a lot of the dataset and decided to just work with original dataset"
   ]
  },
  {
   "cell_type": "code",
   "metadata": {
    "id": "sgSyM9czYagS",
    "colab": {
     "base_uri": "https://localhost:8080/",
     "height": 480
    },
    "outputId": "0fde08bc-508d-4397-dca2-32ae729b933b",
    "ExecuteTime": {
     "end_time": "2024-04-10T14:00:21.419675Z",
     "start_time": "2024-04-10T14:00:21.270991Z"
    }
   },
   "source": [
    "# Exploring the outcome of diabetes, showing either Type 1\n",
    "\n",
    "diab.groupby('Diabetes')['Diabetes'].count().plot(kind = 'bar')\n",
    "plt.title('Diabetes Outcome')\n",
    "plt.show()"
   ],
   "outputs": [
    {
     "data": {
      "text/plain": [
       "<Figure size 640x480 with 1 Axes>"
      ],
      "image/png": "[encoded data removed]"
     },
     "metadata": {},
     "output_type": "display_data"
    }
   ],
   "execution_count": 75
  },
  {
   "cell_type": "code",
   "source": [
    "# Boxplots\n",
    "\n",
    "plt.figure(figsize=(12, 6))\n",
    "sns.boxplot(data=diab.drop(columns='Diabetes'))\n",
    "plt.title('Boxplots of Features')\n",
    "plt.xticks(rotation=45)\n",
    "plt.show()"
   ],
   "metadata": {
    "colab": {
     "base_uri": "https://localhost:8080/",
     "height": 648
    },
    "id": "Fu5FpQ04hznu",
    "outputId": "36dea26e-8a96-4291-b598-ec18439fa87b",
    "ExecuteTime": {
     "end_time": "2024-04-10T14:00:32.643272Z",
     "start_time": "2024-04-10T14:00:21.421754Z"
    }
   },
   "outputs": [
    {
     "data": {
      "text/plain": [
       "<Figure size 1200x600 with 1 Axes>"
      ],
      "image/png": "[encoded data removed]"
     },
     "metadata": {},
     "output_type": "display_data"
    }
   ],
   "execution_count": 76
  },
  {
   "cell_type": "markdown",
   "source": [
    "Indicates that variables BMI,MentHlth,PhysHlth strongly correlate to the target variable"
   ],
   "metadata": {
    "id": "GxBPagH3h7Ws"
   }
  },
  {
   "cell_type": "code",
   "source": [
    "# Violin plots\n",
    "\n",
    "plt.figure(figsize=(12, 6))\n",
    "sns.violinplot(data=diab.drop(columns='Diabetes'))\n",
    "plt.title('Violin plots of Features')\n",
    "plt.xticks(rotation=45)\n",
    "plt.show()"
   ],
   "metadata": {
    "colab": {
     "base_uri": "https://localhost:8080/",
     "height": 648
    },
    "id": "VHLWSkG9h3bZ",
    "outputId": "49abd07f-fa0e-4cf3-d93f-6a42d7d1ac4d",
    "ExecuteTime": {
     "end_time": "2024-04-10T14:01:03.624856Z",
     "start_time": "2024-04-10T14:00:32.644928Z"
    }
   },
   "outputs": [
    {
     "data": {
      "text/plain": [
       "<Figure size 1200x600 with 1 Axes>"
      ],
      "image/png": "[encoded data removed]"
     },
     "metadata": {},
     "output_type": "display_data"
    }
   ],
   "execution_count": 77
  },
  {
   "cell_type": "markdown",
   "source": [
    "Indicates that variables BMI,MentHlth,PhysHlth strongly correlate to the target variable, still shows the strong relationship the three have with the target variables"
   ],
   "metadata": {
    "id": "B_RmlC9zh_o_"
   }
  },
  {
   "cell_type": "markdown",
   "source": [
    "#### Data Type Optimization Analysis\n",
    "\n",
    "\n",
    "Here we perform a preliminary analysis aimed at optimizing data storage and processing efficiency by examining the range of values for selected features within the reduced dataset. Here we see that all numerical values are well within the range of an 8-bit integer (this dataset has no numbers with decimal values).\n",
    "\n",
    "We also calculate the memory used before we adjust the data types-- this is our baseline for memory usage."
   ],
   "metadata": {
    "id": "IL0FVLSjbl9R"
   }
  },
  {
   "cell_type": "code",
   "metadata": {
    "id": "D1MROmG--Tt7",
    "colab": {
     "base_uri": "https://localhost:8080/",
     "height": 125
    },
    "outputId": "e051a3c4-8a50-4a94-946d-ec14157b18bd",
    "ExecuteTime": {
     "end_time": "2024-04-10T14:01:03.730547Z",
     "start_time": "2024-04-10T14:01:03.627836Z"
    }
   },
   "source": [
    "# Check range of values of specified features to determine suitable data types\n",
    "features_to_optimize = [\"BMI\", \"GenHlth\", \"MentHlth\", \"PhysHlth\", \"Age\"]\n",
    "data_types_optimization = (\n",
    "    diab[features_to_optimize].describe().loc[[\"min\", \"max\"]]\n",
    ")\n",
    "\n",
    "# Memory used before reducing data types\n",
    "memory_before = diab.memory_usage(index=True).sum()\n",
    "\n",
    "data_types_optimization"
   ],
   "outputs": [
    {
     "data": {
      "text/plain": [
       "      BMI  GenHlth  MentHlth  PhysHlth   Age\n",
       "min  12.0      1.0       0.0       0.0   1.0\n",
       "max  98.0      5.0      30.0      30.0  13.0"
      ],
      "text/html": [
       "<div>\n",
       "<style scoped>\n",
       "    .dataframe tbody tr th:only-of-type {\n",
       "        vertical-align: middle;\n",
       "    }\n",
       "\n",
       "    .dataframe tbody tr th {\n",
       "        vertical-align: top;\n",
       "    }\n",
       "\n",
       "    .dataframe thead th {\n",
       "        text-align: right;\n",
       "    }\n",
       "</style>\n",
       "<table border=\"1\" class=\"dataframe\">\n",
       "  <thead>\n",
       "    <tr style=\"text-align: right;\">\n",
       "      <th></th>\n",
       "      <th>BMI</th>\n",
       "      <th>GenHlth</th>\n",
       "      <th>MentHlth</th>\n",
       "      <th>PhysHlth</th>\n",
       "      <th>Age</th>\n",
       "    </tr>\n",
       "  </thead>\n",
       "  <tbody>\n",
       "    <tr>\n",
       "      <th>min</th>\n",
       "      <td>12.0</td>\n",
       "      <td>1.0</td>\n",
       "      <td>0.0</td>\n",
       "      <td>0.0</td>\n",
       "      <td>1.0</td>\n",
       "    </tr>\n",
       "    <tr>\n",
       "      <th>max</th>\n",
       "      <td>98.0</td>\n",
       "      <td>5.0</td>\n",
       "      <td>30.0</td>\n",
       "      <td>30.0</td>\n",
       "      <td>13.0</td>\n",
       "    </tr>\n",
       "  </tbody>\n",
       "</table>\n",
       "</div>"
      ]
     },
     "execution_count": 78,
     "metadata": {},
     "output_type": "execute_result"
    }
   ],
   "execution_count": 78
  },
  {
   "cell_type": "markdown",
   "source": [
    "#### Data Type Conversion for Efficiency\n",
    "\n",
    "\n",
    "We enhance the dataset's memory efficiency by converting specified binary columns to boolean data types. We print the memory usage before and after the operation to demonstrate the effectiveness of this optimization in reducing the dataset's memory consumption."
   ],
   "metadata": {
    "id": "hX9s4kwUb-K2"
   }
  },
  {
   "cell_type": "code",
   "source": [
    "# scale data types down to reduce memory footprint\n",
    "diab[\"BMI\"] = diab[\"BMI\"].astype(\"float32\")\n",
    "diab[\"GenHlth\"] = diab[\"GenHlth\"].astype(\"int8\")\n",
    "diab[\"MentHlth\"] = diab[\"MentHlth\"].astype(\"int8\")\n",
    "diab[\"PhysHlth\"] = diab[\"PhysHlth\"].astype(\"int8\")\n",
    "diab[\"Age\"] = diab[\"Age\"].astype(\"int8\")\n",
    "\n",
    "# convert 1/0 binary columns to boolean values\n",
    "binary_columns = [\n",
    "    \"Diabetes\",\n",
    "    \"HighBP\",\n",
    "    \"HighChol\",\n",
    "    \"Smoker\",\n",
    "    \"Stroke\",\n",
    "    \"HeartDiseaseorAttack\",\n",
    "    \"PhysActivity\",\n",
    "    \"Fruits\",\n",
    "    \"Veggies\",\n",
    "    \"HvyAlcoholConsump\",\n",
    "    \"DiffWalk\",\n",
    "    \"Sex\",\n",
    "]\n",
    "for column in binary_columns:\n",
    "    diab[column] = diab[column].astype(\"bool\")\n",
    "\n",
    "# memory size after data type reduction\n",
    "memory_after = diab.memory_usage(index=True).sum()\n",
    "\n",
    "print(\"Dataframe memory used before:\", memory_before)\n",
    "print(\"Dataframe memory used after:  \", memory_after)"
   ],
   "metadata": {
    "colab": {
     "base_uri": "https://localhost:8080/"
    },
    "id": "Oe5n3nijb40b",
    "outputId": "f0898e86-51d0-4c4c-f13d-91d7e329ef41",
    "ExecuteTime": {
     "end_time": "2024-04-10T14:01:03.762939Z",
     "start_time": "2024-04-10T14:01:03.733055Z"
    }
   },
   "outputs": [
    {
     "name": "stdout",
     "output_type": "stream",
     "text": [
      "Dataframe memory used before: 34500612\n",
      "Dataframe memory used after:   5073732\n"
     ]
    }
   ],
   "execution_count": 79
  },
  {
   "cell_type": "markdown",
   "source": [
    "### Logistic Regression Model for Diabetes Prediction\n",
    "\n",
    "\n",
    "Here we prepare data for machine learning, specifically using a logistic regression model to predict diabetes. First, numerical columns are identified and scaled using MinMaxScaler to ensure all features contribute equally to the model without bias from varying scales. A logistic regression model is then initialized with specific parameters. The dataset is split into features (X_log) and the target variable (y_log). The data is further divided into training and test sets to evaluate the model's performance on unseen data.\n",
    "\n",
    "After training the logistic regression model, predictions are made on the test set. The model's effectiveness is assessed using accuracy, confusion matrix, and classification report, providing a comprehensive overview of its predictive capabilities in distinguishing between diabetic and non-diabetic individuals."
   ],
   "metadata": {
    "id": "xtaBPJWqiKin"
   }
  },
  {
   "cell_type": "code",
   "source": [
    "from imblearn.combine import SMOTEENN\n",
    "# copy Dataframe for Logistic model\n",
    "log_df = diab.copy(deep=True)\n",
    "\n",
    "# Selecting numerical columns (excluding binary/boolean columns)\n",
    "numerical_columns = [\"BMI\", \"GenHlth\", \"MentHlth\", \"PhysHlth\", \"Age\"]\n",
    "\n",
    "# Initialize the MinMaxScaler\n",
    "scaler = MinMaxScaler()\n",
    "\n",
    "# Fit and transform the numerical features\n",
    "log_df[numerical_columns] = scaler.fit_transform(log_df[numerical_columns])\n",
    "\n",
    "mylog_model = linear_model.LogisticRegression(solver=\"saga\", max_iter=1000)\n",
    "\n",
    "# 'X' is the feature set and 'y' is the target variable\n",
    "X_log = log_df.drop(\"Diabetes\", axis=1)\n",
    "y_log = log_df[\"Diabetes\"].astype(\"bool\")  # Ensuring the target is boolean\n",
    "\n",
    "smt = SMOTEENN()\n",
    "\n",
    "X_log, y_log = smt.fit_resample(X_log, y_log)\n",
    "\n",
    "# Splitting the dataset into the Training set and Test set\n",
    "X_log_train, X_log_test, y_log_train, y_log_test = model_selection.train_test_split(\n",
    "    X_log, y_log, test_size=0.25, random_state=42\n",
    ")\n",
    "\n",
    "# Train the model and output prediction of test data\n",
    "mylog_model.fit(X_log_train, y_log_train)\n",
    "y_pred_log = mylog_model.predict(X_log_test)\n",
    "\n",
    "# Evaluate the model\n",
    "accuracy_log = accuracy_score(y_log_test, y_pred_log)\n",
    "conf_matrix_log = confusion_matrix(y_log_test, y_pred_log)\n",
    "class_report_log = classification_report(y_log_test, y_pred_log)\n",
    "\n",
    "print(\"\\nLogistic Regression (single) prediction results:\", \"\\n\")\n",
    "print(f\"Accuracy: {round(accuracy_log*100,2)} %\", \"\\n\")\n",
    "print(\"Confusion Matrix:\")\n",
    "print(conf_matrix_log, \"\\n\")\n",
    "print(\"Classification Report:\")\n",
    "print(class_report_log)"
   ],
   "metadata": {
    "colab": {
     "base_uri": "https://localhost:8080/"
    },
    "id": "fFK9BFAiiI1W",
    "outputId": "f60f8358-0067-44a9-ab06-47484e63d7d2",
    "ExecuteTime": {
     "end_time": "2024-04-10T14:04:05.218583Z",
     "start_time": "2024-04-10T14:01:03.764450Z"
    }
   },
   "outputs": [
    {
     "name": "stdout",
     "output_type": "stream",
     "text": [
      "\n",
      "Logistic Regression (single) prediction results: \n",
      "\n",
      "Accuracy: 86.05 % \n",
      "\n",
      "Confusion Matrix:\n",
      "[[31301  5553]\n",
      " [ 5052 34100]] \n",
      "\n",
      "Classification Report:\n",
      "              precision    recall  f1-score   support\n",
      "\n",
      "       False       0.86      0.85      0.86     36854\n",
      "        True       0.86      0.87      0.87     39152\n",
      "\n",
      "    accuracy                           0.86     76006\n",
      "   macro avg       0.86      0.86      0.86     76006\n",
      "weighted avg       0.86      0.86      0.86     76006\n",
      "\n"
     ]
    }
   ],
   "execution_count": 80
  },
  {
   "cell_type": "markdown",
   "metadata": {
    "id": "eKTVXb9KS7nm"
   },
   "source": [
    "### Building Decision Tree Model"
   ]
  },
  {
   "cell_type": "code",
   "source": [
    "## Load Libraries for Decision Tree Classifier\n",
    "from sklearn.tree import DecisionTreeClassifier\n",
    "??DecisionTreeClassifier()"
   ],
   "metadata": {
    "colab": {
     "base_uri": "https://localhost:8080/"
    },
    "id": "fyHWJAON9YNY",
    "outputId": "ca01501d-c7c5-47d7-a273-1bdc0a7f5c63",
    "ExecuteTime": {
     "end_time": "2024-04-10T14:04:05.235492Z",
     "start_time": "2024-04-10T14:04:05.221089Z"
    }
   },
   "outputs": [
    {
     "name": "stdout",
     "output_type": "stream",
     "text": [
      "Object `DecisionTreeClassifier()` not found.\n"
     ]
    }
   ],
   "execution_count": 81
  },
  {
   "cell_type": "code",
   "source": [
    "# Create a decision tree classifier\n",
    "\n",
    "tree = DecisionTreeClassifier()\n",
    "\n",
    "# Train it on our training set.\n",
    "tree = tree.fit(X_log_train, y_log_train)\n",
    "\n",
    "# Predict based on the model we've trained\n",
    "y_pred_tree = tree.predict(X_log_test)\n",
    "\n",
    "\n",
    "# Evaluate the model\n",
    "accuracy_tree = accuracy_score(y_log_test, y_pred_tree)\n",
    "conf_matrix_tree = confusion_matrix(y_log_test, y_pred_tree)\n",
    "class_report_tree = classification_report(y_log_test, y_pred_tree)\n",
    "\n",
    "print(\"\\nDecision Tree Classifier prediction results:\", \"\\n\")\n",
    "print(f\"Accuracy: {round(accuracy_tree*100,2)} %\", \"\\n\")\n",
    "print(\"Confusion Matrix:\")\n",
    "print(conf_matrix_tree, \"\\n\")\n",
    "print(\"Classification Report:\")\n",
    "print(class_report_tree)"
   ],
   "metadata": {
    "colab": {
     "base_uri": "https://localhost:8080/"
    },
    "id": "SSvAPYBfZHYc",
    "outputId": "117b6f9b-348e-40b7-fc9b-3aae7bc6f85b",
    "ExecuteTime": {
     "end_time": "2024-04-10T14:04:07.812752Z",
     "start_time": "2024-04-10T14:04:05.237483Z"
    }
   },
   "outputs": [
    {
     "name": "stdout",
     "output_type": "stream",
     "text": [
      "\n",
      "Decision Tree Classifier prediction results: \n",
      "\n",
      "Accuracy: 93.97 % \n",
      "\n",
      "Confusion Matrix:\n",
      "[[34553  2301]\n",
      " [ 2282 36870]] \n",
      "\n",
      "Classification Report:\n",
      "              precision    recall  f1-score   support\n",
      "\n",
      "       False       0.94      0.94      0.94     36854\n",
      "        True       0.94      0.94      0.94     39152\n",
      "\n",
      "    accuracy                           0.94     76006\n",
      "   macro avg       0.94      0.94      0.94     76006\n",
      "weighted avg       0.94      0.94      0.94     76006\n",
      "\n"
     ]
    }
   ],
   "execution_count": 82
  },
  {
   "cell_type": "markdown",
   "source": [
    "### Feature Importance\n",
    "\n",
    "\n",
    "Performed Feature importance to get the variables that are more relevant to help us in the hyper parameter tuning to improve performance of the models prediction and Accuracy"
   ],
   "metadata": {
    "id": "KkPSIqNcnRIz"
   }
  },
  {
   "cell_type": "code",
   "source": [
    "# Get feature importances\n",
    "importances = tree.feature_importances_\n",
    "\n",
    "# Get feature names\n",
    "feature_names = X_log_train.columns\n",
    "\n",
    "# Sort feature importances in descending order\n",
    "indices = np.argsort(importances)[::-1]\n",
    "\n",
    "# Print the feature ranking\n",
    "print(\"Feature ranking:\")\n",
    "for f in range(X_log_train.shape[1]):\n",
    "    print(f\"{f + 1}. Feature '{feature_names[indices[f]]}' ({importances[indices[f]]})\")\n",
    "\n",
    "# Plot the feature importances\n",
    "plt.figure()\n",
    "plt.title(\"Feature importances\")\n",
    "plt.bar(range(X_log_train.shape[1]), importances[indices],\n",
    "        color=\"r\", align=\"center\")\n",
    "plt.xticks(range(X_log_train.shape[1]), indices)\n",
    "plt.xlim([-1, X_log_train.shape[1]])\n",
    "plt.xlabel('Feature Index')\n",
    "plt.ylabel('Feature Importance')\n",
    "plt.show()"
   ],
   "metadata": {
    "colab": {
     "base_uri": "https://localhost:8080/",
     "height": 767
    },
    "id": "NK7o6t3slcMi",
    "outputId": "11c933f8-d414-47d8-90f5-a4f853e5630f",
    "ExecuteTime": {
     "end_time": "2024-04-10T14:04:08.301573Z",
     "start_time": "2024-04-10T14:04:07.814756Z"
    }
   },
   "outputs": [
    {
     "name": "stdout",
     "output_type": "stream",
     "text": [
      "Feature ranking:\n",
      "1. Feature 'GenHlth' (0.3975289692531168)\n",
      "2. Feature 'BMI' (0.20042574638224364)\n",
      "3. Feature 'Age' (0.11953881339553828)\n",
      "4. Feature 'HighBP' (0.11815022717364236)\n",
      "5. Feature 'PhysHlth' (0.03582003648844632)\n",
      "6. Feature 'MentHlth' (0.026101125962561356)\n",
      "7. Feature 'HighChol' (0.018386371771387664)\n",
      "8. Feature 'Sex' (0.012941529297939585)\n",
      "9. Feature 'Fruits' (0.012104305671351017)\n",
      "10. Feature 'Smoker' (0.011372656537706027)\n",
      "11. Feature 'PhysActivity' (0.011153899836861434)\n",
      "12. Feature 'Veggies' (0.009659887304154206)\n",
      "13. Feature 'DiffWalk' (0.009313502637076882)\n",
      "14. Feature 'HeartDiseaseorAttack' (0.008545622903214388)\n",
      "15. Feature 'HvyAlcoholConsump' (0.004676096993927649)\n",
      "16. Feature 'Stroke' (0.004281208390832272)\n"
     ]
    },
    {
     "data": {
      "text/plain": [
       "<Figure size 640x480 with 1 Axes>"
      ],
      "image/png": "[encoded data removed]"
     },
     "metadata": {},
     "output_type": "display_data"
    }
   ],
   "execution_count": 83
  },
  {
   "cell_type": "markdown",
   "source": [
    "Ater getting the feature importance as observed in the graph above there were some variables that were more important than other we decided to move forward with some variables."
   ],
   "metadata": {
    "id": "rfN8t7r2ooO5"
   }
  },
  {
   "cell_type": "markdown",
   "source": [
    "### Tuning the Model"
   ],
   "metadata": {
    "id": "CSghkO2xoU3B"
   }
  },
  {
   "cell_type": "code",
   "source": [
    "# Drop the least important features\n",
    "X_modified = X_log.drop(columns=['Stroke', 'HvyAlcoholConsump', 'HeartDiseaseorAttack'])\n",
    "\n"
   ],
   "metadata": {
    "colab": {
     "base_uri": "https://localhost:8080/"
    },
    "id": "DwgORz_quuw6",
    "outputId": "9039db7c-b026-4198-95ac-dbaac8a0c402",
    "ExecuteTime": {
     "end_time": "2024-04-10T14:04:08.337397Z",
     "start_time": "2024-04-10T14:04:08.304247Z"
    }
   },
   "outputs": [],
   "execution_count": 84
  },
  {
   "cell_type": "code",
   "source": [
    "# Split the modified data into train and test sets\n",
    "X_train, X_test, y_train, y_test = train_test_split(X_modified, y_log, test_size=0.3, random_state=42)\n",
    "\n",
    "# Train a new decision tree classifier\n",
    "model_modified = DecisionTreeClassifier()\n",
    "model_modified.fit(X_train, y_train)\n",
    "\n",
    "# Evaluate performance on the test set\n",
    "y_pred_modified = model_modified.predict(X_test)\n",
    "\n",
    "# Evaluate the model\n",
    "accuracy_modified = accuracy_score(y_test, y_pred_modified)\n",
    "conf_matrix_modified = confusion_matrix(y_test, y_pred_modified)\n",
    "class_report_modified = classification_report(y_test, y_pred_modified)\n",
    "\n",
    "print(\"\\nDecision Tree Classifier Modified prediction results:\", \"\\n\")\n",
    "print(f\"Accuracy: {round(accuracy_modified*100,2)} %\", \"\\n\")\n",
    "print(\"Confusion Matrix:\")\n",
    "print(conf_matrix_modified, \"\\n\")\n",
    "print(\"Classification Report:\")\n",
    "print(class_report_modified)"
   ],
   "metadata": {
    "colab": {
     "base_uri": "https://localhost:8080/"
    },
    "id": "4j_uD-UaxA1u",
    "outputId": "b8cd8069-cb13-4644-be30-1ee69338bebb",
    "ExecuteTime": {
     "end_time": "2024-04-10T14:04:10.776001Z",
     "start_time": "2024-04-10T14:04:08.339625Z"
    }
   },
   "outputs": [
    {
     "name": "stdout",
     "output_type": "stream",
     "text": [
      "\n",
      "Decision Tree Classifier Modified prediction results: \n",
      "\n",
      "Accuracy: 93.65 % \n",
      "\n",
      "Confusion Matrix:\n",
      "[[41369  2823]\n",
      " [ 2966 44049]] \n",
      "\n",
      "Classification Report:\n",
      "              precision    recall  f1-score   support\n",
      "\n",
      "       False       0.93      0.94      0.93     44192\n",
      "        True       0.94      0.94      0.94     47015\n",
      "\n",
      "    accuracy                           0.94     91207\n",
      "   macro avg       0.94      0.94      0.94     91207\n",
      "weighted avg       0.94      0.94      0.94     91207\n",
      "\n"
     ]
    }
   ],
   "execution_count": 85
  },
  {
   "metadata": {
    "ExecuteTime": {
     "end_time": "2024-04-10T14:04:10.784150Z",
     "start_time": "2024-04-10T14:04:10.778004Z"
    }
   },
   "cell_type": "code",
   "source": [
    "# from sklearn.model_selection import train_test_split\n",
    "# from sklearn.tree import DecisionTreeClassifier\n",
    "# from imblearn.combine import SMOTEENN\n",
    "# \n",
    "# smt = SMOTEENN()\n",
    "# \n",
    "# x_resampled, y_resampled = smt.fit_resample(X_train, y_train)\n",
    "# # Split your data into training and testing sets\n",
    "# X_train, X_test, y_train, y_test = train_test_split(x_resampled, y_resampled, test_size=0.3, random_state=42)\n",
    "# \n",
    "# model_dt_smote= DecisionTreeClassifier(criterion='gini', max_depth=6, random_state=42, min_samples_leaf=8)\n",
    "# \n",
    "# model_dt_smote.fit(X_train, y_train)\n",
    "# yr_predict = model_dt_smote.predict(X_test)\n",
    "# model_score_r = model_dt_smote.score(X_test, y_test)\n",
    "# print(model_score_r)\n",
    "# print(metrics.classification_report(y_test, yr_predict))"
   ],
   "outputs": [],
   "execution_count": 86
  },
  {
   "cell_type": "code",
   "metadata": {
    "id": "Mj2llcH6OPhp",
    "ExecuteTime": {
     "end_time": "2024-04-10T14:04:10.794948Z",
     "start_time": "2024-04-10T14:04:10.786157Z"
    }
   },
   "source": [
    "#  Loading and importing necessary libraries\n",
    "\n",
    "from six import StringIO\n",
    "import io\n",
    "import six\n",
    "import sys\n",
    "sys.modules['sklearn.externals.six'] = six\n",
    "from sklearn.model_selection import train_test_split\n",
    "from sklearn.tree import DecisionTreeClassifier\n",
    "from sklearn.metrics import accuracy_score, classification_report, confusion_matrix\n",
    "from sklearn.preprocessing import StandardScaler\n",
    "from sklearn.svm import SVC\n",
    "from sklearn.metrics import accuracy_score, classification_report\n",
    "from sklearn.svm import SVR\n",
    "from sklearn.metrics import mean_squared_error"
   ],
   "outputs": [],
   "execution_count": 87
  },
  {
   "cell_type": "code",
   "metadata": {
    "id": "lZ7hZqg6g_t-",
    "ExecuteTime": {
     "end_time": "2024-04-10T14:04:10.807972Z",
     "start_time": "2024-04-10T14:04:10.802438Z"
    }
   },
   "source": [
    "#\n",
    "\n",
    "# !pip install scikit-learn six"
   ],
   "outputs": [],
   "execution_count": 88
  },
  {
   "cell_type": "code",
   "source": [
    "X_log.columns"
   ],
   "metadata": {
    "colab": {
     "base_uri": "https://localhost:8080/"
    },
    "id": "2KKrLA0WhWXG",
    "outputId": "60639471-b862-4496-f47e-5c5a0a3b620a",
    "ExecuteTime": {
     "end_time": "2024-04-10T14:04:10.819990Z",
     "start_time": "2024-04-10T14:04:10.810478Z"
    }
   },
   "outputs": [
    {
     "data": {
      "text/plain": [
       "Index(['HighBP', 'HighChol', 'BMI', 'Smoker', 'Stroke', 'HeartDiseaseorAttack',\n",
       "       'PhysActivity', 'Fruits', 'Veggies', 'HvyAlcoholConsump', 'GenHlth',\n",
       "       'MentHlth', 'PhysHlth', 'DiffWalk', 'Sex', 'Age'],\n",
       "      dtype='object')"
      ]
     },
     "execution_count": 89,
     "metadata": {},
     "output_type": "execute_result"
    }
   ],
   "execution_count": 89
  },
  {
   "cell_type": "code",
   "metadata": {
    "id": "fkmW57WDgZR5",
    "jupyter": {
     "is_executing": true
    },
    "ExecuteTime": {
     "start_time": "2024-04-10T14:27:18.287961Z"
    }
   },
   "source": [
    "# from sklearn.tree import export_graphviz\n",
    "# from sklearn.externals.six import StringIO\n",
    "# from IPython.display import Image\n",
    "# import pydotplus\n",
    "# \n",
    "# dot_data = StringIO()\n",
    "# export_graphviz(model_modified, out_file=dot_data,\n",
    "#                 filled=True, rounded=True,\n",
    "#                 special_characters=True,feature_names = X_modified.columns,class_names=['Not Diabetic', 'Diabetic'])\n",
    "# graph = pydotplus.graph_from_dot_data(dot_data.getvalue())\n",
    "# graph.set_size('\"10,10!\"')  # Set the size of the output image\n",
    "# graph.set_rankdir('LR')   # Set the layout direction (Left to Right)\n",
    "# graph.write_png('diabetes.png')\n",
    "# # Image(graph.create_png())\n",
    "# display(Image(graph.create_png(), width=600, height=600))\n",
    "\n",
    "import matplotlib.pyplot as plt\n",
    "from sklearn.tree import export_graphviz\n",
    "from IPython.display import Image\n",
    "import pydotplus\n",
    "from io import StringIO\n",
    "\n",
    "dot_data = StringIO()\n",
    "\n",
    "# Export the decision tree to a dot format\n",
    "export_graphviz(model_modified, out_file=dot_data,  \n",
    "                filled=True, rounded=True,\n",
    "                special_characters=True, feature_names = X_modified.columns, class_names=['Not Diabetic', 'Diabetic'])\n",
    "\n",
    "# Create a graph from the dot data\n",
    "\n",
    "graph = pydotplus.graph_from_dot_data(dot_data.getvalue())\n",
    "graph.set_rankdir('LR')\n",
    "graph.set_size('\"10,10!\"')\n",
    "# Write the graph to a png file\n",
    "graph.write_png('model_visualization.png')\n",
    "\n",
    "\n",
    "# Display the image\n",
    "Image(graph.create_png())"
   ],
   "outputs": [],
   "execution_count": null
  },
  {
   "cell_type": "markdown",
   "source": [
    " ### Creating Support Vector Regressor\n",
    "  Model"
   ],
   "metadata": {
    "id": "pkeM2We5VV5x"
   }
  },
  {
   "cell_type": "code",
   "source": [
    "#  Standard Scaler\n",
    "\n",
    "# scaler_svr = StandardScaler()\n",
    "# X_train_scaled = scaler_svr.fit_transform(X_log_train)\n",
    "# X_test_scaled = scaler_svr.transform(X_log_test)"
   ],
   "metadata": {
    "id": "AXF7SQFcXyWW",
    "ExecuteTime": {
     "end_time": "2024-04-10T14:04:10.836446Z",
     "start_time": "2024-04-10T14:04:10.830585Z"
    }
   },
   "outputs": [],
   "execution_count": 91
  },
  {
   "cell_type": "code",
   "source": [
    "# # Train the Support Vector Regression (SVR) model\n",
    "# svr = SVR(kernel='rbf')  # You can choose different kernels such as 'linear', 'poly', 'rbf', etc.\n",
    "# svr.fit(X_train_scaled, y_log_train)\n"
   ],
   "metadata": {
    "id": "AV8kdlE0Bt2X",
    "ExecuteTime": {
     "end_time": "2024-04-10T14:04:10.844157Z",
     "start_time": "2024-04-10T14:04:10.838955Z"
    }
   },
   "outputs": [],
   "execution_count": 92
  },
  {
   "cell_type": "code",
   "source": [
    "# Make predictions on the test set\n",
    "\n",
    "# y_pred_svr = svr.predict(X_test_scaled)"
   ],
   "metadata": {
    "id": "R07bsSWMByVt",
    "ExecuteTime": {
     "end_time": "2024-04-10T14:04:10.851577Z",
     "start_time": "2024-04-10T14:04:10.846173Z"
    }
   },
   "outputs": [],
   "execution_count": 93
  },
  {
   "cell_type": "code",
   "source": [
    "# # Evaluate the model\n",
    "\n",
    "# mse = mean_squared_error(y_log_test, y_pred_svr)\n",
    "# print(\"Mean Squared Error:\", mse)\n",
    "\n",
    "# # Evaluate the model\n",
    "# accuracy_svr = accuracy_score(y_log_test, y_pred_svr)\n",
    "# conf_matrix_svr = confusion_matrix(y_log_test, y_pred_svr)\n",
    "# class_report_svr = classification_report(y_log_test, y_pred_svr)\n",
    "\n",
    "# print(\"\\nLogistic Regression (single) prediction results:\", \"\\n\")\n",
    "# print(f\"Accuracy: {round(accuracy_svr*100,2)} %\", \"\\n\")\n",
    "# print(\"Confusion Matrix:\")\n",
    "# print(conf_matrix_svr, \"\\n\")\n",
    "# print(\"Classification Report:\")\n",
    "# print(class_report_svr)"
   ],
   "metadata": {
    "id": "C0TR5VLSB0tQ",
    "ExecuteTime": {
     "end_time": "2024-04-10T14:04:10.859628Z",
     "start_time": "2024-04-10T14:04:10.854282Z"
    }
   },
   "outputs": [],
   "execution_count": 94
  },
  {
   "cell_type": "code",
   "source": [
    "# Standardize features by removing the mean and scaling to unit variance\n",
    "# scaler = StandardScaler()\n",
    "# X_train_scaled = scaler.fit_transform(X_train)\n",
    "# X_test_scaled = scaler.transform(X_test)\n",
    "\n"
   ],
   "metadata": {
    "id": "0G3CZS6mKUah",
    "ExecuteTime": {
     "end_time": "2024-04-10T14:04:10.866903Z",
     "start_time": "2024-04-10T14:04:10.862274Z"
    }
   },
   "outputs": [],
   "execution_count": 95
  },
  {
   "cell_type": "code",
   "source": [
    "# Initialize and train the Support Vector Machine classifier\n",
    "# svm_classifier = SVC(kernel='rbf', gamma='scale')  # Radial Basis Function kernel\n",
    "# svm_classifier.fit(X_train_scaled, y_log_train)"
   ],
   "metadata": {
    "id": "OMnCGzveK45Q",
    "ExecuteTime": {
     "end_time": "2024-04-10T14:04:10.873958Z",
     "start_time": "2024-04-10T14:04:10.869284Z"
    }
   },
   "outputs": [],
   "execution_count": 96
  },
  {
   "cell_type": "code",
   "source": [
    "# Make predictions on the test set\n",
    "# y_pred_svm = svm_classifier.predict(X_test_scaled)"
   ],
   "metadata": {
    "id": "EI519SycK7gM",
    "ExecuteTime": {
     "end_time": "2024-04-10T14:04:10.881566Z",
     "start_time": "2024-04-10T14:04:10.875961Z"
    }
   },
   "outputs": [],
   "execution_count": 97
  },
  {
   "cell_type": "code",
   "source": [
    "# Evaluate the model\n",
    "# accuracy_svm = accuracy_score(y_log_test, y_pred_svm)\n",
    "# conf_matrix_svm = confusion_matrix(y_log_test, y_pred_svm)\n",
    "# class_report_svm = classification_report(y_log_test, y_pred_svm)\n",
    "\n",
    "# print(\"\\nLogistic Regression (single) prediction results:\", \"\\n\")\n",
    "# print(f\"Accuracy: {round(accuracy_svm*100,2)} %\", \"\\n\")\n",
    "# print(\"Confusion Matrix:\")\n",
    "# print(conf_matrix_svm, \"\\n\")\n",
    "# print(\"Classification Report:\")\n",
    "# print(class_report_svm)"
   ],
   "metadata": {
    "id": "ZuRc5HNCK_NL",
    "ExecuteTime": {
     "end_time": "2024-04-10T14:04:10.888397Z",
     "start_time": "2024-04-10T14:04:10.883569Z"
    }
   },
   "outputs": [],
   "execution_count": 98
  },
  {
   "cell_type": "markdown",
   "source": [
    "### Building KNN Model"
   ],
   "metadata": {
    "id": "BPHLljZVFULA"
   }
  },
  {
   "cell_type": "code",
   "source": [
    "# # Splitting our data\n",
    "# # ---\n",
    "# #\n",
    "# a = diab[numerical_columns].values\n",
    "# b = diab['Diabetes'].values\n",
    "\n",
    "# a_train, a_test, b_train, b_test = train_test_split(a, b, test_size=.3, random_state=0)"
   ],
   "metadata": {
    "id": "Byz_fhnCEj_N",
    "ExecuteTime": {
     "end_time": "2024-04-10T14:04:10.896764Z",
     "start_time": "2024-04-10T14:04:10.890905Z"
    }
   },
   "outputs": [],
   "execution_count": 99
  },
  {
   "cell_type": "code",
   "source": [
    "# Feature Scaling\n",
    "# ---\n",
    "# Before making any actual predictions, it is always a good practice to scale the features\n",
    "# so that all of them can be uniformly evaluated.\n",
    "# ---\n",
    "#\n",
    "from sklearn.preprocessing import StandardScaler\n",
    "scaler_knn = StandardScaler()\n",
    "# scaler1.fit(a_train)\n",
    "\n",
    "knn_fit = scaler_knn.fit_transform(X_log_train)\n",
    "knn_transform = scaler_knn.transform(X_log_test)"
   ],
   "metadata": {
    "id": "G4Ux9KvgEFfi",
    "ExecuteTime": {
     "end_time": "2024-04-10T14:04:11.386746Z",
     "start_time": "2024-04-10T14:04:10.898217Z"
    }
   },
   "outputs": [],
   "execution_count": 100
  },
  {
   "cell_type": "code",
   "source": [
    "# Training our algorithm\n",
    "# ---\n",
    "#\n",
    "from sklearn.neighbors import KNeighborsClassifier\n",
    "classy = KNeighborsClassifier(n_neighbors = 10)\n",
    "classy.fit(X_log_train, y_log_train)"
   ],
   "metadata": {
    "id": "C6ruhJCwEJ3a",
    "colab": {
     "base_uri": "https://localhost:8080/",
     "height": 74
    },
    "outputId": "92627fb0-dc2a-424b-e3d3-9360b20a4e66",
    "ExecuteTime": {
     "end_time": "2024-04-10T14:04:11.473204Z",
     "start_time": "2024-04-10T14:04:11.388749Z"
    }
   },
   "outputs": [
    {
     "data": {
      "text/plain": [
       "KNeighborsClassifier(n_neighbors=10)"
      ],
      "text/html": [
       "<style>#sk-container-id-2 {\n",
       "  /* Definition of color scheme common for light and dark mode */\n",
       "  --sklearn-color-text: black;\n",
       "  --sklearn-color-line: gray;\n",
       "  /* Definition of color scheme for unfitted estimators */\n",
       "  --sklearn-color-unfitted-level-0: #fff5e6;\n",
       "  --sklearn-color-unfitted-level-1: #f6e4d2;\n",
       "  --sklearn-color-unfitted-level-2: #ffe0b3;\n",
       "  --sklearn-color-unfitted-level-3: chocolate;\n",
       "  /* Definition of color scheme for fitted estimators */\n",
       "  --sklearn-color-fitted-level-0: #f0f8ff;\n",
       "  --sklearn-color-fitted-level-1: #d4ebff;\n",
       "  --sklearn-color-fitted-level-2: #b3dbfd;\n",
       "  --sklearn-color-fitted-level-3: cornflowerblue;\n",
       "\n",
       "  /* Specific color for light theme */\n",
       "  --sklearn-color-text-on-default-background: var(--sg-text-color, var(--theme-code-foreground, var(--jp-content-font-color1, black)));\n",
       "  --sklearn-color-background: var(--sg-background-color, var(--theme-background, var(--jp-layout-color0, white)));\n",
       "  --sklearn-color-border-box: var(--sg-text-color, var(--theme-code-foreground, var(--jp-content-font-color1, black)));\n",
       "  --sklearn-color-icon: #696969;\n",
       "\n",
       "  @media (prefers-color-scheme: dark) {\n",
       "    /* Redefinition of color scheme for dark theme */\n",
       "    --sklearn-color-text-on-default-background: var(--sg-text-color, var(--theme-code-foreground, var(--jp-content-font-color1, white)));\n",
       "    --sklearn-color-background: var(--sg-background-color, var(--theme-background, var(--jp-layout-color0, #111)));\n",
       "    --sklearn-color-border-box: var(--sg-text-color, var(--theme-code-foreground, var(--jp-content-font-color1, white)));\n",
       "    --sklearn-color-icon: #878787;\n",
       "  }\n",
       "}\n",
       "\n",
       "#sk-container-id-2 {\n",
       "  color: var(--sklearn-color-text);\n",
       "}\n",
       "\n",
       "#sk-container-id-2 pre {\n",
       "  padding: 0;\n",
       "}\n",
       "\n",
       "#sk-container-id-2 input.sk-hidden--visually {\n",
       "  border: 0;\n",
       "  clip: rect(1px 1px 1px 1px);\n",
       "  clip: rect(1px, 1px, 1px, 1px);\n",
       "  height: 1px;\n",
       "  margin: -1px;\n",
       "  overflow: hidden;\n",
       "  padding: 0;\n",
       "  position: absolute;\n",
       "  width: 1px;\n",
       "}\n",
       "\n",
       "#sk-container-id-2 div.sk-dashed-wrapped {\n",
       "  border: 1px dashed var(--sklearn-color-line);\n",
       "  margin: 0 0.4em 0.5em 0.4em;\n",
       "  box-sizing: border-box;\n",
       "  padding-bottom: 0.4em;\n",
       "  background-color: var(--sklearn-color-background);\n",
       "}\n",
       "\n",
       "#sk-container-id-2 div.sk-container {\n",
       "  /* jupyter's `normalize.less` sets `[hidden] { display: none; }`\n",
       "     but bootstrap.min.css set `[hidden] { display: none !important; }`\n",
       "     so we also need the `!important` here to be able to override the\n",
       "     default hidden behavior on the sphinx rendered scikit-learn.org.\n",
       "     See: https://github.com/scikit-learn/scikit-learn/issues/21755 */\n",
       "  display: inline-block !important;\n",
       "  position: relative;\n",
       "}\n",
       "\n",
       "#sk-container-id-2 div.sk-text-repr-fallback {\n",
       "  display: none;\n",
       "}\n",
       "\n",
       "div.sk-parallel-item,\n",
       "div.sk-serial,\n",
       "div.sk-item {\n",
       "  /* draw centered vertical line to link estimators */\n",
       "  background-image: linear-gradient(var(--sklearn-color-text-on-default-background), var(--sklearn-color-text-on-default-background));\n",
       "  background-size: 2px 100%;\n",
       "  background-repeat: no-repeat;\n",
       "  background-position: center center;\n",
       "}\n",
       "\n",
       "/* Parallel-specific style estimator block */\n",
       "\n",
       "#sk-container-id-2 div.sk-parallel-item::after {\n",
       "  content: \"\";\n",
       "  width: 100%;\n",
       "  border-bottom: 2px solid var(--sklearn-color-text-on-default-background);\n",
       "  flex-grow: 1;\n",
       "}\n",
       "\n",
       "#sk-container-id-2 div.sk-parallel {\n",
       "  display: flex;\n",
       "  align-items: stretch;\n",
       "  justify-content: center;\n",
       "  background-color: var(--sklearn-color-background);\n",
       "  position: relative;\n",
       "}\n",
       "\n",
       "#sk-container-id-2 div.sk-parallel-item {\n",
       "  display: flex;\n",
       "  flex-direction: column;\n",
       "}\n",
       "\n",
       "#sk-container-id-2 div.sk-parallel-item:first-child::after {\n",
       "  align-self: flex-end;\n",
       "  width: 50%;\n",
       "}\n",
       "\n",
       "#sk-container-id-2 div.sk-parallel-item:last-child::after {\n",
       "  align-self: flex-start;\n",
       "  width: 50%;\n",
       "}\n",
       "\n",
       "#sk-container-id-2 div.sk-parallel-item:only-child::after {\n",
       "  width: 0;\n",
       "}\n",
       "\n",
       "/* Serial-specific style estimator block */\n",
       "\n",
       "#sk-container-id-2 div.sk-serial {\n",
       "  display: flex;\n",
       "  flex-direction: column;\n",
       "  align-items: center;\n",
       "  background-color: var(--sklearn-color-background);\n",
       "  padding-right: 1em;\n",
       "  padding-left: 1em;\n",
       "}\n",
       "\n",
       "\n",
       "/* Toggleable style: style used for estimator/Pipeline/ColumnTransformer box that is\n",
       "clickable and can be expanded/collapsed.\n",
       "- Pipeline and ColumnTransformer use this feature and define the default style\n",
       "- Estimators will overwrite some part of the style using the `sk-estimator` class\n",
       "*/\n",
       "\n",
       "/* Pipeline and ColumnTransformer style (default) */\n",
       "\n",
       "#sk-container-id-2 div.sk-toggleable {\n",
       "  /* Default theme specific background. It is overwritten whether we have a\n",
       "  specific estimator or a Pipeline/ColumnTransformer */\n",
       "  background-color: var(--sklearn-color-background);\n",
       "}\n",
       "\n",
       "/* Toggleable label */\n",
       "#sk-container-id-2 label.sk-toggleable__label {\n",
       "  cursor: pointer;\n",
       "  display: block;\n",
       "  width: 100%;\n",
       "  margin-bottom: 0;\n",
       "  padding: 0.5em;\n",
       "  box-sizing: border-box;\n",
       "  text-align: center;\n",
       "}\n",
       "\n",
       "#sk-container-id-2 label.sk-toggleable__label-arrow:before {\n",
       "  /* Arrow on the left of the label */\n",
       "  content: \"▸\";\n",
       "  float: left;\n",
       "  margin-right: 0.25em;\n",
       "  color: var(--sklearn-color-icon);\n",
       "}\n",
       "\n",
       "#sk-container-id-2 label.sk-toggleable__label-arrow:hover:before {\n",
       "  color: var(--sklearn-color-text);\n",
       "}\n",
       "\n",
       "/* Toggleable content - dropdown */\n",
       "\n",
       "#sk-container-id-2 div.sk-toggleable__content {\n",
       "  max-height: 0;\n",
       "  max-width: 0;\n",
       "  overflow: hidden;\n",
       "  text-align: left;\n",
       "  /* unfitted */\n",
       "  background-color: var(--sklearn-color-unfitted-level-0);\n",
       "}\n",
       "\n",
       "#sk-container-id-2 div.sk-toggleable__content.fitted {\n",
       "  /* fitted */\n",
       "  background-color: var(--sklearn-color-fitted-level-0);\n",
       "}\n",
       "\n",
       "#sk-container-id-2 div.sk-toggleable__content pre {\n",
       "  margin: 0.2em;\n",
       "  border-radius: 0.25em;\n",
       "  color: var(--sklearn-color-text);\n",
       "  /* unfitted */\n",
       "  background-color: var(--sklearn-color-unfitted-level-0);\n",
       "}\n",
       "\n",
       "#sk-container-id-2 div.sk-toggleable__content.fitted pre {\n",
       "  /* unfitted */\n",
       "  background-color: var(--sklearn-color-fitted-level-0);\n",
       "}\n",
       "\n",
       "#sk-container-id-2 input.sk-toggleable__control:checked~div.sk-toggleable__content {\n",
       "  /* Expand drop-down */\n",
       "  max-height: 200px;\n",
       "  max-width: 100%;\n",
       "  overflow: auto;\n",
       "}\n",
       "\n",
       "#sk-container-id-2 input.sk-toggleable__control:checked~label.sk-toggleable__label-arrow:before {\n",
       "  content: \"▾\";\n",
       "}\n",
       "\n",
       "/* Pipeline/ColumnTransformer-specific style */\n",
       "\n",
       "#sk-container-id-2 div.sk-label input.sk-toggleable__control:checked~label.sk-toggleable__label {\n",
       "  color: var(--sklearn-color-text);\n",
       "  background-color: var(--sklearn-color-unfitted-level-2);\n",
       "}\n",
       "\n",
       "#sk-container-id-2 div.sk-label.fitted input.sk-toggleable__control:checked~label.sk-toggleable__label {\n",
       "  background-color: var(--sklearn-color-fitted-level-2);\n",
       "}\n",
       "\n",
       "/* Estimator-specific style */\n",
       "\n",
       "/* Colorize estimator box */\n",
       "#sk-container-id-2 div.sk-estimator input.sk-toggleable__control:checked~label.sk-toggleable__label {\n",
       "  /* unfitted */\n",
       "  background-color: var(--sklearn-color-unfitted-level-2);\n",
       "}\n",
       "\n",
       "#sk-container-id-2 div.sk-estimator.fitted input.sk-toggleable__control:checked~label.sk-toggleable__label {\n",
       "  /* fitted */\n",
       "  background-color: var(--sklearn-color-fitted-level-2);\n",
       "}\n",
       "\n",
       "#sk-container-id-2 div.sk-label label.sk-toggleable__label,\n",
       "#sk-container-id-2 div.sk-label label {\n",
       "  /* The background is the default theme color */\n",
       "  color: var(--sklearn-color-text-on-default-background);\n",
       "}\n",
       "\n",
       "/* On hover, darken the color of the background */\n",
       "#sk-container-id-2 div.sk-label:hover label.sk-toggleable__label {\n",
       "  color: var(--sklearn-color-text);\n",
       "  background-color: var(--sklearn-color-unfitted-level-2);\n",
       "}\n",
       "\n",
       "/* Label box, darken color on hover, fitted */\n",
       "#sk-container-id-2 div.sk-label.fitted:hover label.sk-toggleable__label.fitted {\n",
       "  color: var(--sklearn-color-text);\n",
       "  background-color: var(--sklearn-color-fitted-level-2);\n",
       "}\n",
       "\n",
       "/* Estimator label */\n",
       "\n",
       "#sk-container-id-2 div.sk-label label {\n",
       "  font-family: monospace;\n",
       "  font-weight: bold;\n",
       "  display: inline-block;\n",
       "  line-height: 1.2em;\n",
       "}\n",
       "\n",
       "#sk-container-id-2 div.sk-label-container {\n",
       "  text-align: center;\n",
       "}\n",
       "\n",
       "/* Estimator-specific */\n",
       "#sk-container-id-2 div.sk-estimator {\n",
       "  font-family: monospace;\n",
       "  border: 1px dotted var(--sklearn-color-border-box);\n",
       "  border-radius: 0.25em;\n",
       "  box-sizing: border-box;\n",
       "  margin-bottom: 0.5em;\n",
       "  /* unfitted */\n",
       "  background-color: var(--sklearn-color-unfitted-level-0);\n",
       "}\n",
       "\n",
       "#sk-container-id-2 div.sk-estimator.fitted {\n",
       "  /* fitted */\n",
       "  background-color: var(--sklearn-color-fitted-level-0);\n",
       "}\n",
       "\n",
       "/* on hover */\n",
       "#sk-container-id-2 div.sk-estimator:hover {\n",
       "  /* unfitted */\n",
       "  background-color: var(--sklearn-color-unfitted-level-2);\n",
       "}\n",
       "\n",
       "#sk-container-id-2 div.sk-estimator.fitted:hover {\n",
       "  /* fitted */\n",
       "  background-color: var(--sklearn-color-fitted-level-2);\n",
       "}\n",
       "\n",
       "/* Specification for estimator info (e.g. \"i\" and \"?\") */\n",
       "\n",
       "/* Common style for \"i\" and \"?\" */\n",
       "\n",
       ".sk-estimator-doc-link,\n",
       "a:link.sk-estimator-doc-link,\n",
       "a:visited.sk-estimator-doc-link {\n",
       "  float: right;\n",
       "  font-size: smaller;\n",
       "  line-height: 1em;\n",
       "  font-family: monospace;\n",
       "  background-color: var(--sklearn-color-background);\n",
       "  border-radius: 1em;\n",
       "  height: 1em;\n",
       "  width: 1em;\n",
       "  text-decoration: none !important;\n",
       "  margin-left: 1ex;\n",
       "  /* unfitted */\n",
       "  border: var(--sklearn-color-unfitted-level-1) 1pt solid;\n",
       "  color: var(--sklearn-color-unfitted-level-1);\n",
       "}\n",
       "\n",
       ".sk-estimator-doc-link.fitted,\n",
       "a:link.sk-estimator-doc-link.fitted,\n",
       "a:visited.sk-estimator-doc-link.fitted {\n",
       "  /* fitted */\n",
       "  border: var(--sklearn-color-fitted-level-1) 1pt solid;\n",
       "  color: var(--sklearn-color-fitted-level-1);\n",
       "}\n",
       "\n",
       "/* On hover */\n",
       "div.sk-estimator:hover .sk-estimator-doc-link:hover,\n",
       ".sk-estimator-doc-link:hover,\n",
       "div.sk-label-container:hover .sk-estimator-doc-link:hover,\n",
       ".sk-estimator-doc-link:hover {\n",
       "  /* unfitted */\n",
       "  background-color: var(--sklearn-color-unfitted-level-3);\n",
       "  color: var(--sklearn-color-background);\n",
       "  text-decoration: none;\n",
       "}\n",
       "\n",
       "div.sk-estimator.fitted:hover .sk-estimator-doc-link.fitted:hover,\n",
       ".sk-estimator-doc-link.fitted:hover,\n",
       "div.sk-label-container:hover .sk-estimator-doc-link.fitted:hover,\n",
       ".sk-estimator-doc-link.fitted:hover {\n",
       "  /* fitted */\n",
       "  background-color: var(--sklearn-color-fitted-level-3);\n",
       "  color: var(--sklearn-color-background);\n",
       "  text-decoration: none;\n",
       "}\n",
       "\n",
       "/* Span, style for the box shown on hovering the info icon */\n",
       ".sk-estimator-doc-link span {\n",
       "  display: none;\n",
       "  z-index: 9999;\n",
       "  position: relative;\n",
       "  font-weight: normal;\n",
       "  right: .2ex;\n",
       "  padding: .5ex;\n",
       "  margin: .5ex;\n",
       "  width: min-content;\n",
       "  min-width: 20ex;\n",
       "  max-width: 50ex;\n",
       "  color: var(--sklearn-color-text);\n",
       "  box-shadow: 2pt 2pt 4pt #999;\n",
       "  /* unfitted */\n",
       "  background: var(--sklearn-color-unfitted-level-0);\n",
       "  border: .5pt solid var(--sklearn-color-unfitted-level-3);\n",
       "}\n",
       "\n",
       ".sk-estimator-doc-link.fitted span {\n",
       "  /* fitted */\n",
       "  background: var(--sklearn-color-fitted-level-0);\n",
       "  border: var(--sklearn-color-fitted-level-3);\n",
       "}\n",
       "\n",
       ".sk-estimator-doc-link:hover span {\n",
       "  display: block;\n",
       "}\n",
       "\n",
       "/* \"?\"-specific style due to the `<a>` HTML tag */\n",
       "\n",
       "#sk-container-id-2 a.estimator_doc_link {\n",
       "  float: right;\n",
       "  font-size: 1rem;\n",
       "  line-height: 1em;\n",
       "  font-family: monospace;\n",
       "  background-color: var(--sklearn-color-background);\n",
       "  border-radius: 1rem;\n",
       "  height: 1rem;\n",
       "  width: 1rem;\n",
       "  text-decoration: none;\n",
       "  /* unfitted */\n",
       "  color: var(--sklearn-color-unfitted-level-1);\n",
       "  border: var(--sklearn-color-unfitted-level-1) 1pt solid;\n",
       "}\n",
       "\n",
       "#sk-container-id-2 a.estimator_doc_link.fitted {\n",
       "  /* fitted */\n",
       "  border: var(--sklearn-color-fitted-level-1) 1pt solid;\n",
       "  color: var(--sklearn-color-fitted-level-1);\n",
       "}\n",
       "\n",
       "/* On hover */\n",
       "#sk-container-id-2 a.estimator_doc_link:hover {\n",
       "  /* unfitted */\n",
       "  background-color: var(--sklearn-color-unfitted-level-3);\n",
       "  color: var(--sklearn-color-background);\n",
       "  text-decoration: none;\n",
       "}\n",
       "\n",
       "#sk-container-id-2 a.estimator_doc_link.fitted:hover {\n",
       "  /* fitted */\n",
       "  background-color: var(--sklearn-color-fitted-level-3);\n",
       "}\n",
       "</style><div id=\"sk-container-id-2\" class=\"sk-top-container\"><div class=\"sk-text-repr-fallback\"><pre>KNeighborsClassifier(n_neighbors=10)</pre><b>In a Jupyter environment, please rerun this cell to show the HTML representation or trust the notebook. <br />On GitHub, the HTML representation is unable to render, please try loading this page with nbviewer.org.</b></div><div class=\"sk-container\" hidden><div class=\"sk-item\"><div class=\"sk-estimator fitted sk-toggleable\"><input class=\"sk-toggleable__control sk-hidden--visually\" id=\"sk-estimator-id-2\" type=\"checkbox\" checked><label for=\"sk-estimator-id-2\" class=\"sk-toggleable__label fitted sk-toggleable__label-arrow fitted\">&nbsp;&nbsp;KNeighborsClassifier<a class=\"sk-estimator-doc-link fitted\" rel=\"noreferrer\" target=\"_blank\" href=\"https://scikit-learn.org/1.4/modules/generated/sklearn.neighbors.KNeighborsClassifier.html\">?<span>Documentation for KNeighborsClassifier</span></a><span class=\"sk-estimator-doc-link fitted\">i<span>Fitted</span></span></label><div class=\"sk-toggleable__content fitted\"><pre>KNeighborsClassifier(n_neighbors=10)</pre></div> </div></div></div></div>"
      ]
     },
     "execution_count": 101,
     "metadata": {},
     "output_type": "execute_result"
    }
   ],
   "execution_count": 101
  },
  {
   "cell_type": "code",
   "source": [
    "# The final step is to make predictions on our test data\n",
    "# ---\n",
    "y_pred_knn = classy.predict(X_log_test)"
   ],
   "metadata": {
    "id": "0jufabvbEMTj",
    "ExecuteTime": {
     "end_time": "2024-04-10T14:04:33.166825Z",
     "start_time": "2024-04-10T14:04:11.475207Z"
    }
   },
   "outputs": [],
   "execution_count": 102
  },
  {
   "cell_type": "code",
   "source": [
    "# Evaluate the model\n",
    "accuracy_knn = accuracy_score(y_log_test, y_pred_knn)\n",
    "conf_matrix_knn = confusion_matrix(y_log_test, y_pred_knn)\n",
    "class_report_knn = classification_report(y_log_test, y_pred_knn)\n",
    "\n",
    "print(\"\\nKNeighbors Classifier prediction results:\", \"\\n\")\n",
    "print(f\"Accuracy: {round(accuracy_knn*100,2)} %\", \"\\n\")\n",
    "print(\"Confusion Matrix:\")\n",
    "print(conf_matrix_knn, \"\\n\")\n",
    "print(\"Classification Report:\")\n",
    "print(class_report_knn)"
   ],
   "metadata": {
    "id": "ZMGZwIJQEQ8P",
    "colab": {
     "base_uri": "https://localhost:8080/"
    },
    "outputId": "16390d69-c519-48f4-d5bd-6ab1dcdbbade",
    "ExecuteTime": {
     "end_time": "2024-04-10T14:04:33.392742Z",
     "start_time": "2024-04-10T14:04:33.169653Z"
    }
   },
   "outputs": [
    {
     "name": "stdout",
     "output_type": "stream",
     "text": [
      "\n",
      "KNeighbors Classifier prediction results: \n",
      "\n",
      "Accuracy: 91.9 % \n",
      "\n",
      "Confusion Matrix:\n",
      "[[33401  3453]\n",
      " [ 2703 36449]] \n",
      "\n",
      "Classification Report:\n",
      "              precision    recall  f1-score   support\n",
      "\n",
      "       False       0.93      0.91      0.92     36854\n",
      "        True       0.91      0.93      0.92     39152\n",
      "\n",
      "    accuracy                           0.92     76006\n",
      "   macro avg       0.92      0.92      0.92     76006\n",
      "weighted avg       0.92      0.92      0.92     76006\n",
      "\n"
     ]
    }
   ],
   "execution_count": 103
  },
  {
   "cell_type": "markdown",
   "source": [
    "#### Building a Random Forest Classifier"
   ],
   "metadata": {
    "id": "ad2chLreTIKD"
   }
  },
  {
   "cell_type": "code",
   "source": [
    "from sklearn.ensemble import RandomForestClassifier\n",
    "rf_clf = RandomForestClassifier(random_state=42, n_estimators=500)\n",
    "\n",
    "classifier = rf_clf.fit(X_log_train, y_log_train)\n",
    "\n",
    "y_pred_rf = classifier.predict(X_log_test)\n",
    "\n",
    "# Evaluate the model\n",
    "accuracy_rf = accuracy_score(y_log_test, y_pred_rf)\n",
    "conf_matrix_rf = confusion_matrix(y_log_test, y_pred_rf)\n",
    "class_report_rf = classification_report(y_log_test, y_pred_rf)\n",
    "\n",
    "\n",
    "print('Metrics for RandomForestClassifier')\n",
    "print(f\"Accuracy: {round(accuracy_rf*100,2)} %\", \"\\n\")\n",
    "print(\"Confusion Matrix:\")\n",
    "print(conf_matrix_rf, \"\\n\")\n",
    "print(\"Classification Report:\")\n",
    "print(class_report_rf)"
   ],
   "metadata": {
    "id": "0eLITnx1H-sE",
    "colab": {
     "base_uri": "https://localhost:8080/"
    },
    "outputId": "574a61d3-b8d6-49b2-dfe7-310f166df3a4",
    "ExecuteTime": {
     "end_time": "2024-04-10T14:07:19.327164Z",
     "start_time": "2024-04-10T14:04:33.394744Z"
    }
   },
   "outputs": [
    {
     "name": "stdout",
     "output_type": "stream",
     "text": [
      "Metrics for RandomForestClassifier\n",
      "Accuracy: 96.66 % \n",
      "\n",
      "Confusion Matrix:\n",
      "[[35334  1520]\n",
      " [ 1015 38137]] \n",
      "\n",
      "Classification Report:\n",
      "              precision    recall  f1-score   support\n",
      "\n",
      "       False       0.97      0.96      0.97     36854\n",
      "        True       0.96      0.97      0.97     39152\n",
      "\n",
      "    accuracy                           0.97     76006\n",
      "   macro avg       0.97      0.97      0.97     76006\n",
      "weighted avg       0.97      0.97      0.97     76006\n",
      "\n"
     ]
    }
   ],
   "execution_count": 104
  }
 ],
 "metadata": {
  "colab": {
   "provenance": []
  },
  "kernelspec": {
   "display_name": "Python 3 (ipykernel)",
   "name": "python3",
   "language": "python"
  },
  "language_info": {
   "name": "python"
  }
 },
 "nbformat": 4,
 "nbformat_minor": 0
}
